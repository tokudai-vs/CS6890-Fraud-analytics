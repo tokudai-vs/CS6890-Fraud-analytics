{
 "cells": [
  {
   "cell_type": "markdown",
   "metadata": {},
   "source": [
    "## **Assignment 3: Implementation of TrustRank algorithm.**"
   ]
  },
  {
   "cell_type": "markdown",
   "metadata": {},
   "source": [
    "<font size='4'>**Submitted by:**</br>\n",
    "1. Anilava Kundu **CS20MTECH01002**\n",
    "2. Kuldeep Gautam **CS20MTECH01004**\n",
    "3. Vishal Singh Yadav **CS20MTECH01001**"
   ]
  },
  {
   "cell_type": "code",
   "execution_count": 4,
   "metadata": {},
   "outputs": [],
   "source": [
    "import numpy as np\n",
    "import operator\n",
    "import networkx as nx\n",
    "import matplotlib.pyplot as plt\n",
    "import pylab"
   ]
  },
  {
   "cell_type": "code",
   "execution_count": 5,
   "metadata": {
    "id": "rAsU0_kJ1f0_"
   },
   "outputs": [],
   "source": [
    "trusted_pages_ratio = 0.4\n",
    "trusted_pages = []\n",
    "maxer = 0\n",
    "nodes_dict = {}\n",
    "nodes = []\n",
    "count = 0\n",
    "beta = 0.85"
   ]
  },
  {
   "cell_type": "code",
   "execution_count": 6,
   "metadata": {
    "id": "PXzTLM5r2pDd"
   },
   "outputs": [],
   "source": [
    "with open(\"graph.txt\", \"r\") as data_file:\n",
    "    count = 0\n",
    "    for line in data_file:\n",
    "        if count>100:\n",
    "            continue\n",
    "        count+=1\n",
    "        line_values = line.split(\" \")\n",
    "        a = int(line_values[0])\n",
    "        b = int(line_values[1])\n",
    "        if a > maxer:\n",
    "            maxer = a\n",
    "        if b > maxer:\n",
    "            maxer = b\n",
    "        if a not in nodes:\n",
    "            nodes.append(a)\n",
    "        if b not in nodes:\n",
    "            nodes.append(b)\n",
    "        if a not in nodes_dict:\n",
    "            nodes_dict[a] = [b]\n",
    "        else:\n",
    "            nodes_dict[a].append(b)"
   ]
  },
  {
   "cell_type": "code",
   "execution_count": 7,
   "metadata": {
    "colab": {
     "base_uri": "https://localhost:8080/",
     "height": 302
    },
    "id": "5rfYf6jQ2U9G",
    "outputId": "649d3ab6-0e05-43b9-ae5f-065781d8acac"
   },
   "outputs": [],
   "source": [
    "M = np.zeros((maxer + 1, maxer + 1))\n",
    "v = np.zeros(maxer + 1)"
   ]
  },
  {
   "cell_type": "code",
   "execution_count": 8,
   "metadata": {},
   "outputs": [],
   "source": [
    "for from_node in nodes_dict:\n",
    "    length = len(nodes_dict[from_node])\n",
    "    fraction = 1 / length\n",
    "    for to_node in nodes_dict[from_node]:\n",
    "        M[to_node][from_node] = fraction\n"
   ]
  },
  {
   "cell_type": "code",
   "execution_count": 9,
   "metadata": {
    "colab": {
     "base_uri": "https://localhost:8080/"
    },
    "id": "y6NT-Sfq2ceW",
    "outputId": "f66aeae7-d70c-49f6-9b96-50b0f67ce489"
   },
   "outputs": [],
   "source": [
    "no_of_nodes = len(nodes)\n",
    "fraction = 1 / no_of_nodes\n",
    "for i in range(1, maxer + 1):\n",
    "    if i in nodes:\n",
    "        v[i] = fraction"
   ]
  },
  {
   "cell_type": "code",
   "execution_count": 10,
   "metadata": {
    "colab": {
     "base_uri": "https://localhost:8080/",
     "height": 432
    },
    "id": "sk9iOB4K4l-m",
    "outputId": "082ead3b-082a-49a2-cfd9-e4b0b0c0292e"
   },
   "outputs": [],
   "source": [
    "teleport = (1 - beta) * v\n",
    "\n",
    "M = beta * M"
   ]
  },
  {
   "cell_type": "code",
   "execution_count": 11,
   "metadata": {},
   "outputs": [],
   "source": [
    "while 1:\n",
    "    v1 = np.dot(M, v) + teleport\n",
    "    if np.array_equal(v1, v):\n",
    "        break\n",
    "    else:\n",
    "        v = v1\n",
    "        count += 1"
   ]
  },
  {
   "cell_type": "code",
   "execution_count": 12,
   "metadata": {
    "colab": {
     "base_uri": "https://localhost:8080/"
    },
    "id": "lk-48Wp2-Vl8",
    "outputId": "fb79081b-3a2c-402f-b216-fac97f41b1b2"
   },
   "outputs": [],
   "source": [
    "page_rank_score = []\n",
    "for i in range(1, len(v)):\n",
    "    if v[i] != 0:\n",
    "        page_rank_score.append([i, v[i]])"
   ]
  },
  {
   "cell_type": "code",
   "execution_count": 13,
   "metadata": {},
   "outputs": [],
   "source": [
    "sorted_page_rank_score = sorted(\n",
    "    page_rank_score, key=operator.itemgetter(1), reverse=True\n",
    ")"
   ]
  },
  {
   "cell_type": "code",
   "execution_count": 15,
   "metadata": {},
   "outputs": [],
   "source": [
    "no_of_trusted_pages = int(trusted_pages_ratio * len(sorted_page_rank_score))"
   ]
  },
  {
   "cell_type": "code",
   "execution_count": 16,
   "metadata": {},
   "outputs": [],
   "source": [
    "trusted_pages = [\n",
    "    page_info[0]\n",
    "    for i, page_info in zip(range(0, no_of_trusted_pages), sorted_page_rank_score)\n",
    "]"
   ]
  },
  {
   "cell_type": "code",
   "execution_count": 17,
   "metadata": {},
   "outputs": [],
   "source": [
    "fraction = 1 / no_of_trusted_pages"
   ]
  },
  {
   "cell_type": "code",
   "execution_count": 18,
   "metadata": {},
   "outputs": [],
   "source": [
    "v = np.zeros(maxer + 1)\n",
    "for i in range(1, maxer + 1):\n",
    "    if i in trusted_pages:\n",
    "        v[i] = fraction"
   ]
  },
  {
   "cell_type": "code",
   "execution_count": 19,
   "metadata": {},
   "outputs": [],
   "source": [
    "teleport = (1 - beta) * v\n",
    "count = 0"
   ]
  },
  {
   "cell_type": "code",
   "execution_count": 20,
   "metadata": {},
   "outputs": [],
   "source": [
    "while 1:\n",
    "    v1 = np.dot(M, v) + teleport\n",
    "    if np.array_equal(v1, v):\n",
    "        break\n",
    "    else:\n",
    "        v = v1\n",
    "        count += 1\n"
   ]
  },
  {
   "cell_type": "code",
   "execution_count": 21,
   "metadata": {},
   "outputs": [],
   "source": [
    "page_rank_score_after_trustrank = []\n",
    "for i in range(1, len(v)):\n",
    "    if v[i] != 0:\n",
    "        page_rank_score_after_trustrank.append([i, v[i]])"
   ]
  },
  {
   "cell_type": "code",
   "execution_count": 22,
   "metadata": {},
   "outputs": [],
   "source": [
    "sorted_page_rank_score_after_trustrank = sorted(\n",
    "    page_rank_score_after_trustrank, key=operator.itemgetter(1), reverse=True\n",
    ")"
   ]
  },
  {
   "cell_type": "code",
   "execution_count": 23,
   "metadata": {},
   "outputs": [],
   "source": [
    "nodes_for_graph = []\n",
    "edge_list_for_graph = []\n",
    "G = nx.DiGraph()\n",
    "for i, page_info in zip(range(30), sorted_page_rank_score_after_trustrank):\n",
    "    nodes_for_graph.append(page_info[0])"
   ]
  },
  {
   "cell_type": "code",
   "execution_count": 24,
   "metadata": {},
   "outputs": [
    {
     "name": "stdout",
     "output_type": "stream",
     "text": [
      "[1, 2, 3, 4, 5, 6, 7, 8, 9, 10, 11, 12, 13, 14, 15, 16, 17, 18, 19, 20, 21, 22, 23, 24, 25, 26, 27, 28, 29, 30]\n"
     ]
    }
   ],
   "source": [
    "print(nodes_for_graph)\n",
    "for node in nodes_for_graph:\n",
    "    if node in nodes_dict:\n",
    "        for page in nodes_dict[node]:\n",
    "            if page in nodes_for_graph:\n",
    "                edge_list_for_graph.append([node, page])"
   ]
  },
  {
   "cell_type": "code",
   "execution_count": 25,
   "metadata": {},
   "outputs": [],
   "source": [
    "G.add_edges_from(edge_list_for_graph)\n",
    "edge_colors = [\"grey\" for edge in G.edges]\n",
    "final_node_size = [\n",
    "    1950000 * page_info[1]\n",
    "    for i, page_info in zip(range(30), sorted_page_rank_score_after_trustrank)\n",
    "]\n"
   ]
  },
  {
   "cell_type": "code",
   "execution_count": 26,
   "metadata": {},
   "outputs": [
    {
     "data": {
      "image/png": "[encoded data removed]",
      "text/plain": [
       "<Figure size 432x288 with 1 Axes>"
      ]
     },
     "metadata": {},
     "output_type": "display_data"
    }
   ],
   "source": [
    "try:\n",
    "    pos = nx.spring_layout(G, k=1, iterations=20)\n",
    "    nx.draw_networkx_edges(G, pos)\n",
    "\n",
    "    nx.draw(\n",
    "        G,\n",
    "        pos,\n",
    "        node_size=final_node_size,\n",
    "        node_color=\"Blue\",\n",
    "        edge_color=edge_colors,\n",
    "        edge_cmap=plt.cm.Reds,\n",
    "        with_labels=True,\n",
    "    )\n",
    "    pylab.show()\n",
    "\n",
    "except:\n",
    "    print(\"Could not show graph\")"
   ]
  },
  {
   "cell_type": "code",
   "execution_count": null,
   "metadata": {},
   "outputs": [],
   "source": []
  }
 ],
 "metadata": {
  "colab": {
   "name": "Copy of FraudAnalyticsLogisticRegression.ipynb",
   "provenance": []
  },
  "kernelspec": {
   "display_name": "Python 3",
   "language": "python",
   "name": "python3"
  },
  "language_info": {
   "codemirror_mode": {
    "name": "ipython",
    "version": 3
   },
   "file_extension": ".py",
   "mimetype": "text/x-python",
   "name": "python",
   "nbconvert_exporter": "python",
   "pygments_lexer": "ipython3",
   "version": "3.6.13"
  }
 },
 "nbformat": 4,
 "nbformat_minor": 4
}
